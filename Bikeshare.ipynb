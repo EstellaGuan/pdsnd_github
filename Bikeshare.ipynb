{
 "cells": [
  {
   "cell_type": "code",
   "execution_count": 2,
   "metadata": {},
   "outputs": [
    {
     "name": "stderr",
     "output_type": "stream",
     "text": [
      "Installing package into 'C:/Users/USER/Documents/R/win-library/3.6'\n",
      "(as 'lib' is unspecified)\n"
     ]
    },
    {
     "name": "stdout",
     "output_type": "stream",
     "text": [
      "package 'tidyverse' successfully unpacked and MD5 sums checked\n",
      "\n",
      "The downloaded binary packages are in\n",
      "\tC:\\Users\\USER\\AppData\\Local\\Temp\\Rtmpc9fMae\\downloaded_packages\n"
     ]
    },
    {
     "name": "stderr",
     "output_type": "stream",
     "text": [
      "Warning message:\n",
      "\"package 'ggplot2' was built under R version 3.6.2\""
     ]
    }
   ],
   "source": [
    "install.packages(\"tidyverse\")\n",
    "library(ggplot2)\n"
   ]
  },
  {
   "cell_type": "code",
   "execution_count": 6,
   "metadata": {},
   "outputs": [
    {
     "data": {
      "text/html": [
       "'C:/Users/USER/Documents/Data Coding/Github/pdsnd_github'"
      ],
      "text/latex": [
       "'C:/Users/USER/Documents/Data Coding/Github/pdsnd\\_github'"
      ],
      "text/markdown": [
       "'C:/Users/USER/Documents/Data Coding/Github/pdsnd_github'"
      ],
      "text/plain": [
       "[1] \"C:/Users/USER/Documents/Data Coding/Github/pdsnd_github\""
      ]
     },
     "metadata": {},
     "output_type": "display_data"
    }
   ],
   "source": [
    "##Check current foler\n",
    "getwd()\n",
    "filenames <-list.files(path=\".\",pattern=\".csv\")\n",
    "##List working files in Current folder\n",
    "a=NULL\n",
    "i=1\n",
    "for (i in 1:length(filenames)){\n",
    "  a[[i]] <- read.csv(filenames[i])\n",
    "  names <- substr(filenames[i],1,2)\n",
    "  assign(names,read.csv(paste(filenames[i], sep=\"\\t\")))\n",
    "  i=i+1 \n",
    "  }"
   ]
  },
  {
   "cell_type": "code",
   "execution_count": 7,
   "metadata": {},
   "outputs": [],
   "source": [
    "##Remove Unmatched Gender, Birth Year\" Column\n",
    "chicago = subset(ch,select=-c(Gender,Birth.Year))\n",
    "nyc=subset(ne,select=-c(Gender,Birth.Year))\n",
    "##Combine all csv\n",
    "chicago$city      <- \"chicago\"\n",
    "nyc$city      <- \"new york\"\n",
    "wa$city      <- \"washington\"\n",
    "cities<- rbind(chicago,nyc,wa)"
   ]
  },
  {
   "cell_type": "code",
   "execution_count": 7,
   "metadata": {},
   "outputs": [],
   "source": [
    "##Q1: What is most Common Start Station?"
   ]
  },
  {
   "cell_type": "code",
   "execution_count": 8,
   "metadata": {},
   "outputs": [
    {
     "name": "stderr",
     "output_type": "stream",
     "text": [
      "Warning message:\n",
      "\"package 'dplyr' was built under R version 3.6.2\"\n",
      "Attaching package: 'dplyr'\n",
      "\n",
      "The following objects are masked from 'package:stats':\n",
      "\n",
      "    filter, lag\n",
      "\n",
      "The following objects are masked from 'package:base':\n",
      "\n",
      "    intersect, setdiff, setequal, union\n",
      "\n"
     ]
    }
   ],
   "source": [
    "##Aggregation\n",
    "library(dplyr)\n",
    "agg <- cities %>% \n",
    "  count(Start.Station)"
   ]
  },
  {
   "cell_type": "code",
   "execution_count": 9,
   "metadata": {},
   "outputs": [
    {
     "data": {
      "image/png": "[encoded data removed]",
      "text/plain": [
       "plot without title"
      ]
     },
     "metadata": {},
     "output_type": "display_data"
    }
   ],
   "source": [
    "##ggplot\n",
    "top_n(agg, n=5, n) %>% ggplot(aes(x=reorder(Start.Station,n), y=n,label=n,width=0.5))+\n",
    "  geom_bar(stat='identity',width=0.7,fill='steelblue')+\n",
    "  geom_text(size = 3,position = position_stack(vjust = 0.8),color='white')+\n",
    "  theme(text=element_text(size=10,color='black'))+\n",
    "  coord_flip()+theme_minimal()+\n",
    "  xlab(\"Start Station\")+\n",
    "  scale_y_continuous(seq(0,7000,2000),name=\"Frequency\")+\n",
    "  ggtitle(\"Top 5 Start Stations by Frequency\")"
   ]
  },
  {
   "cell_type": "code",
   "execution_count": 105,
   "metadata": {},
   "outputs": [
    {
     "data": {
      "text/html": [
       "<table>\n",
       "<thead><tr><th scope=col>Start.Station</th><th scope=col>Count</th></tr></thead>\n",
       "<tbody>\n",
       "\t<tr><td><span style=white-space:pre-wrap>Streeter Dr &amp; Grand Ave        </span></td><td>6911                                                                       </td></tr>\n",
       "\t<tr><td>Columbus Circle / Union Station</td><td>5656                           </td></tr>\n",
       "\t<tr><td>Lincoln Memorial               </td><td>5043                           </td></tr>\n",
       "\t<tr><td><span style=white-space:pre-wrap>Jefferson Dr &amp; 14th St SW      </span></td><td>5022                                                                       </td></tr>\n",
       "\t<tr><td><span style=white-space:pre-wrap>Clinton St &amp; Washington Blvd   </span></td><td>4306                                                                       </td></tr>\n",
       "</tbody>\n",
       "</table>\n"
      ],
      "text/latex": [
       "\\begin{tabular}{r|ll}\n",
       " Start.Station & Count\\\\\n",
       "\\hline\n",
       "\t Streeter Dr \\& Grand Ave         & 6911                             \\\\\n",
       "\t Columbus Circle / Union Station & 5656                           \\\\\n",
       "\t Lincoln Memorial                & 5043                           \\\\\n",
       "\t Jefferson Dr \\& 14th St SW       & 5022                             \\\\\n",
       "\t Clinton St \\& Washington Blvd    & 4306                             \\\\\n",
       "\\end{tabular}\n"
      ],
      "text/markdown": [
       "\n",
       "| Start.Station | Count |\n",
       "|---|---|\n",
       "| Streeter Dr & Grand Ave         | 6911                            |\n",
       "| Columbus Circle / Union Station | 5656                            |\n",
       "| Lincoln Memorial                | 5043                            |\n",
       "| Jefferson Dr & 14th St SW       | 5022                            |\n",
       "| Clinton St & Washington Blvd    | 4306                            |\n",
       "\n"
      ],
      "text/plain": [
       "  Start.Station                   Count\n",
       "1 Streeter Dr & Grand Ave         6911 \n",
       "2 Columbus Circle / Union Station 5656 \n",
       "3 Lincoln Memorial                5043 \n",
       "4 Jefferson Dr & 14th St SW       5022 \n",
       "5 Clinton St & Washington Blvd    4306 "
      ]
     },
     "metadata": {},
     "output_type": "display_data"
    }
   ],
   "source": [
    "##Summary Table\n",
    "tb1<- cities %>%\n",
    "    group_by(Start.Station) %>%\n",
    "    summarise(Count=n()) %>% \n",
    "    arrange(desc(Count))\n",
    "head(tb1,5)\n",
    "\n"
   ]
  },
  {
   "cell_type": "code",
   "execution_count": 28,
   "metadata": {},
   "outputs": [],
   "source": [
    "##Summary\n",
    "##The most common Start Station is Streeter Dr & Grand Ave.\n",
    "##Plot Above represents frequency of top 5 start stations in descending order. Top 1 is Station Streeter Dr & Grand Ave with 6911 frequency among 3 cities. "
   ]
  },
  {
   "cell_type": "code",
   "execution_count": 29,
   "metadata": {},
   "outputs": [],
   "source": [
    "##Q2 What is the most common hour of the day(start&end hour)?"
   ]
  },
  {
   "cell_type": "code",
   "execution_count": 11,
   "metadata": {},
   "outputs": [
    {
     "name": "stderr",
     "output_type": "stream",
     "text": [
      "Installing package into 'C:/Users/USER/Documents/R/win-library/3.6'\n",
      "(as 'lib' is unspecified)\n"
     ]
    },
    {
     "name": "stdout",
     "output_type": "stream",
     "text": [
      "package 'tidyverse' successfully unpacked and MD5 sums checked\n",
      "\n",
      "The downloaded binary packages are in\n",
      "\tC:\\Users\\USER\\AppData\\Local\\Temp\\Rtmpc9fMae\\downloaded_packages\n"
     ]
    },
    {
     "name": "stderr",
     "output_type": "stream",
     "text": [
      "Warning message:\n",
      "\"package 'lubridate' was built under R version 3.6.2\"\n",
      "Attaching package: 'lubridate'\n",
      "\n",
      "The following object is masked from 'package:base':\n",
      "\n",
      "    date\n",
      "\n"
     ]
    }
   ],
   "source": [
    "##Aggregation\n",
    "install.packages(\"tidyverse\")\n",
    "library(lubridate)\n",
    "library(ggplot2)\n",
    "starthour <- hour(cities$Start.Time)\n",
    "endhour <- hour(cities$End.Time)\n",
    "cities2 <- cbind(cities,starthour,endhour)"
   ]
  },
  {
   "cell_type": "code",
   "execution_count": 12,
   "metadata": {},
   "outputs": [
    {
     "data": {
      "image/png": "[encoded data removed]",
      "text/plain": [
       "plot without title"
      ]
     },
     "metadata": {},
     "output_type": "display_data"
    }
   ],
   "source": [
    "##ggplot\n",
    "ggplot(data=cities2)+\n",
    "  geom_line(aes(x=starthour,color='blue'),stat='count',size=1)+\n",
    "  geom_line(aes(x=endhour,color='red'),stat='count',size=1)+\n",
    "  geom_point(aes(x=starthour),stat='count',color='blue',size=1.5)+\n",
    "  geom_point(aes(x=endhour),stat='count',color='red',size=1.5)+\n",
    "  theme(text=element_text(size=10,color='black'),panel.grid = element_blank())+\n",
    "  theme_minimal()+\n",
    "  xlab(\"Hours\")+\n",
    "  ylab(\"Frequency\")+\n",
    "  ggtitle(\"Frequency of Start and End Hours \")+\n",
    "  scale_color_manual(name=\"Types\",labels = c(\"Start Hour\",\"End Hour\"),values=c(\"blue\",\"red\"))+\n",
    "  theme(legend.title = element_text(color = \"blue\", size = 8),legend.text = element_text(color = \"blue\", size = 8))+\n",
    "  scale_y_continuous(breaks = seq(0,85000,20000))+\n",
    "  scale_x_continuous(breaks = seq(0,23,2))+theme_bw()\n"
   ]
  },
  {
   "cell_type": "code",
   "execution_count": 115,
   "metadata": {},
   "outputs": [
    {
     "data": {
      "text/html": [
       "<table>\n",
       "<thead><tr><th scope=col>starthour</th><th scope=col>Count</th></tr></thead>\n",
       "<tbody>\n",
       "\t<tr><td> 0   </td><td> 4740</td></tr>\n",
       "\t<tr><td> 1   </td><td>14211</td></tr>\n",
       "\t<tr><td> 2   </td><td>12910</td></tr>\n",
       "\t<tr><td> 3   </td><td>13108</td></tr>\n",
       "\t<tr><td> 4   </td><td>16170</td></tr>\n",
       "\t<tr><td> 5   </td><td>27165</td></tr>\n",
       "\t<tr><td> 6   </td><td>38245</td></tr>\n",
       "\t<tr><td> 7   </td><td>61003</td></tr>\n",
       "\t<tr><td> 8   </td><td>81734</td></tr>\n",
       "\t<tr><td> 9   </td><td>53215</td></tr>\n",
       "\t<tr><td>10   </td><td>41401</td></tr>\n",
       "\t<tr><td>11   </td><td>45799</td></tr>\n",
       "\t<tr><td>12   </td><td>52109</td></tr>\n",
       "\t<tr><td>13   </td><td>40487</td></tr>\n",
       "\t<tr><td>14   </td><td>41381</td></tr>\n",
       "\t<tr><td>15   </td><td>45756</td></tr>\n",
       "\t<tr><td>16   </td><td>58937</td></tr>\n",
       "\t<tr><td>17   </td><td>79373</td></tr>\n",
       "\t<tr><td>18   </td><td>62237</td></tr>\n",
       "\t<tr><td>19   </td><td>41450</td></tr>\n",
       "\t<tr><td>20   </td><td>27341</td></tr>\n",
       "\t<tr><td>21   </td><td>19142</td></tr>\n",
       "\t<tr><td>22   </td><td>13650</td></tr>\n",
       "\t<tr><td>23   </td><td> 8436</td></tr>\n",
       "</tbody>\n",
       "</table>\n"
      ],
      "text/latex": [
       "\\begin{tabular}{r|ll}\n",
       " starthour & Count\\\\\n",
       "\\hline\n",
       "\t  0    &  4740\\\\\n",
       "\t  1    & 14211\\\\\n",
       "\t  2    & 12910\\\\\n",
       "\t  3    & 13108\\\\\n",
       "\t  4    & 16170\\\\\n",
       "\t  5    & 27165\\\\\n",
       "\t  6    & 38245\\\\\n",
       "\t  7    & 61003\\\\\n",
       "\t  8    & 81734\\\\\n",
       "\t  9    & 53215\\\\\n",
       "\t 10    & 41401\\\\\n",
       "\t 11    & 45799\\\\\n",
       "\t 12    & 52109\\\\\n",
       "\t 13    & 40487\\\\\n",
       "\t 14    & 41381\\\\\n",
       "\t 15    & 45756\\\\\n",
       "\t 16    & 58937\\\\\n",
       "\t 17    & 79373\\\\\n",
       "\t 18    & 62237\\\\\n",
       "\t 19    & 41450\\\\\n",
       "\t 20    & 27341\\\\\n",
       "\t 21    & 19142\\\\\n",
       "\t 22    & 13650\\\\\n",
       "\t 23    &  8436\\\\\n",
       "\\end{tabular}\n"
      ],
      "text/markdown": [
       "\n",
       "| starthour | Count |\n",
       "|---|---|\n",
       "|  0    |  4740 |\n",
       "|  1    | 14211 |\n",
       "|  2    | 12910 |\n",
       "|  3    | 13108 |\n",
       "|  4    | 16170 |\n",
       "|  5    | 27165 |\n",
       "|  6    | 38245 |\n",
       "|  7    | 61003 |\n",
       "|  8    | 81734 |\n",
       "|  9    | 53215 |\n",
       "| 10    | 41401 |\n",
       "| 11    | 45799 |\n",
       "| 12    | 52109 |\n",
       "| 13    | 40487 |\n",
       "| 14    | 41381 |\n",
       "| 15    | 45756 |\n",
       "| 16    | 58937 |\n",
       "| 17    | 79373 |\n",
       "| 18    | 62237 |\n",
       "| 19    | 41450 |\n",
       "| 20    | 27341 |\n",
       "| 21    | 19142 |\n",
       "| 22    | 13650 |\n",
       "| 23    |  8436 |\n",
       "\n"
      ],
      "text/plain": [
       "   starthour Count\n",
       "1   0         4740\n",
       "2   1        14211\n",
       "3   2        12910\n",
       "4   3        13108\n",
       "5   4        16170\n",
       "6   5        27165\n",
       "7   6        38245\n",
       "8   7        61003\n",
       "9   8        81734\n",
       "10  9        53215\n",
       "11 10        41401\n",
       "12 11        45799\n",
       "13 12        52109\n",
       "14 13        40487\n",
       "15 14        41381\n",
       "16 15        45756\n",
       "17 16        58937\n",
       "18 17        79373\n",
       "19 18        62237\n",
       "20 19        41450\n",
       "21 20        27341\n",
       "22 21        19142\n",
       "23 22        13650\n",
       "24 23         8436"
      ]
     },
     "metadata": {},
     "output_type": "display_data"
    },
    {
     "data": {
      "text/html": [
       "<table>\n",
       "<thead><tr><th scope=col>endhour</th><th scope=col>Count</th></tr></thead>\n",
       "<tbody>\n",
       "\t<tr><td> 0   </td><td> 5471</td></tr>\n",
       "\t<tr><td> 1   </td><td>14619</td></tr>\n",
       "\t<tr><td> 2   </td><td>12886</td></tr>\n",
       "\t<tr><td> 3   </td><td>13032</td></tr>\n",
       "\t<tr><td> 4   </td><td>15385</td></tr>\n",
       "\t<tr><td> 5   </td><td>25422</td></tr>\n",
       "\t<tr><td> 6   </td><td>36450</td></tr>\n",
       "\t<tr><td> 7   </td><td>55409</td></tr>\n",
       "\t<tr><td> 8   </td><td>80644</td></tr>\n",
       "\t<tr><td> 9   </td><td>58716</td></tr>\n",
       "\t<tr><td>10   </td><td>40794</td></tr>\n",
       "\t<tr><td>11   </td><td>42841</td></tr>\n",
       "\t<tr><td>12   </td><td>50613</td></tr>\n",
       "\t<tr><td>13   </td><td>40016</td></tr>\n",
       "\t<tr><td>14   </td><td>40565</td></tr>\n",
       "\t<tr><td>15   </td><td>44674</td></tr>\n",
       "\t<tr><td>16   </td><td>55412</td></tr>\n",
       "\t<tr><td>17   </td><td>78151</td></tr>\n",
       "\t<tr><td>18   </td><td>67915</td></tr>\n",
       "\t<tr><td>19   </td><td>45948</td></tr>\n",
       "\t<tr><td>20   </td><td>30091</td></tr>\n",
       "\t<tr><td>21   </td><td>20677</td></tr>\n",
       "\t<tr><td>22   </td><td>14770</td></tr>\n",
       "\t<tr><td>23   </td><td> 9499</td></tr>\n",
       "</tbody>\n",
       "</table>\n"
      ],
      "text/latex": [
       "\\begin{tabular}{r|ll}\n",
       " endhour & Count\\\\\n",
       "\\hline\n",
       "\t  0    &  5471\\\\\n",
       "\t  1    & 14619\\\\\n",
       "\t  2    & 12886\\\\\n",
       "\t  3    & 13032\\\\\n",
       "\t  4    & 15385\\\\\n",
       "\t  5    & 25422\\\\\n",
       "\t  6    & 36450\\\\\n",
       "\t  7    & 55409\\\\\n",
       "\t  8    & 80644\\\\\n",
       "\t  9    & 58716\\\\\n",
       "\t 10    & 40794\\\\\n",
       "\t 11    & 42841\\\\\n",
       "\t 12    & 50613\\\\\n",
       "\t 13    & 40016\\\\\n",
       "\t 14    & 40565\\\\\n",
       "\t 15    & 44674\\\\\n",
       "\t 16    & 55412\\\\\n",
       "\t 17    & 78151\\\\\n",
       "\t 18    & 67915\\\\\n",
       "\t 19    & 45948\\\\\n",
       "\t 20    & 30091\\\\\n",
       "\t 21    & 20677\\\\\n",
       "\t 22    & 14770\\\\\n",
       "\t 23    &  9499\\\\\n",
       "\\end{tabular}\n"
      ],
      "text/markdown": [
       "\n",
       "| endhour | Count |\n",
       "|---|---|\n",
       "|  0    |  5471 |\n",
       "|  1    | 14619 |\n",
       "|  2    | 12886 |\n",
       "|  3    | 13032 |\n",
       "|  4    | 15385 |\n",
       "|  5    | 25422 |\n",
       "|  6    | 36450 |\n",
       "|  7    | 55409 |\n",
       "|  8    | 80644 |\n",
       "|  9    | 58716 |\n",
       "| 10    | 40794 |\n",
       "| 11    | 42841 |\n",
       "| 12    | 50613 |\n",
       "| 13    | 40016 |\n",
       "| 14    | 40565 |\n",
       "| 15    | 44674 |\n",
       "| 16    | 55412 |\n",
       "| 17    | 78151 |\n",
       "| 18    | 67915 |\n",
       "| 19    | 45948 |\n",
       "| 20    | 30091 |\n",
       "| 21    | 20677 |\n",
       "| 22    | 14770 |\n",
       "| 23    |  9499 |\n",
       "\n"
      ],
      "text/plain": [
       "   endhour Count\n",
       "1   0       5471\n",
       "2   1      14619\n",
       "3   2      12886\n",
       "4   3      13032\n",
       "5   4      15385\n",
       "6   5      25422\n",
       "7   6      36450\n",
       "8   7      55409\n",
       "9   8      80644\n",
       "10  9      58716\n",
       "11 10      40794\n",
       "12 11      42841\n",
       "13 12      50613\n",
       "14 13      40016\n",
       "15 14      40565\n",
       "16 15      44674\n",
       "17 16      55412\n",
       "18 17      78151\n",
       "19 18      67915\n",
       "20 19      45948\n",
       "21 20      30091\n",
       "22 21      20677\n",
       "23 22      14770\n",
       "24 23       9499"
      ]
     },
     "metadata": {},
     "output_type": "display_data"
    }
   ],
   "source": [
    "##Summary Table\n",
    "cities2 %>%\n",
    "    group_by(starthour) %>%\n",
    "    summarise(Count=n()) \n",
    "cities2 %>%\n",
    "    group_by(endhour) %>%\n",
    "    summarise(Count=n()) \n"
   ]
  },
  {
   "cell_type": "code",
   "execution_count": 35,
   "metadata": {},
   "outputs": [],
   "source": [
    "##Summary\n",
    "##The most common start hour and end hour is 8:00\n",
    "##It is worth from above plot that peak start and end hour is 8:00 with more than 80000 records. "
   ]
  },
  {
   "cell_type": "code",
   "execution_count": 37,
   "metadata": {},
   "outputs": [],
   "source": [
    "##Q3 What is the average travel time for each city?"
   ]
  },
  {
   "cell_type": "code",
   "execution_count": 13,
   "metadata": {},
   "outputs": [],
   "source": [
    "##Aggreation\n",
    "func_avg <- function(y){\n",
    "  avg<-round(mean(y),0)\n",
    "  return(avg)\n",
    "}\n",
    "clm_dur<-c(func_avg(chicago$Trip.Duration),\n",
    "           func_avg(nyc$Trip.Duration),\n",
    "           func_avg(wa$Trip.Duration))\n",
    "clm_city<-c(\"Chicago\",\"New York City\",\"Washington\")\n",
    "new_table<-data.frame(clm_city,clm_dur)"
   ]
  },
  {
   "cell_type": "code",
   "execution_count": 16,
   "metadata": {},
   "outputs": [
    {
     "data": {
      "image/png": "[encoded data removed]",
      "text/plain": [
       "plot without title"
      ]
     },
     "metadata": {},
     "output_type": "display_data"
    }
   ],
   "source": [
    "##ggplot\n",
    "Cities = c(\"Chicago\", \"New York City\", \"Washington\")\n",
    "ggplot(new_table,aes(x=reorder(clm_city,-clm_dur), y=clm_dur,label=clm_dur,fill=Cities))+\n",
    "  geom_bar(stat='identity',width=0.7)+\n",
    "  scale_fill_manual(values=c(\"Chicago\"=\"#999999\", \"New York City\"=\"#E69F00\", \"Washington\"=\"#56B4E9\"))+\n",
    "  theme_minimal()+\n",
    "  xlab(\"Cities\")+\n",
    "  ylab(\"Avgerage Duration\")+\n",
    "  ggtitle(\"Average Travel Duration by Cities\")+\n",
    "  geom_text(size = 3,position = position_stack(vjust = 0.5),color='white')\n"
   ]
  },
  {
   "cell_type": "code",
   "execution_count": 128,
   "metadata": {},
   "outputs": [
    {
     "data": {
      "text/html": [
       "<table>\n",
       "<thead><tr><th scope=col>city</th><th scope=col>AverageDuration</th></tr></thead>\n",
       "<tbody>\n",
       "\t<tr><td>washington</td><td>1237      </td></tr>\n",
       "\t<tr><td>chicago   </td><td> 936      </td></tr>\n",
       "\t<tr><td>new york  </td><td> 900      </td></tr>\n",
       "</tbody>\n",
       "</table>\n"
      ],
      "text/latex": [
       "\\begin{tabular}{r|ll}\n",
       " city & AverageDuration\\\\\n",
       "\\hline\n",
       "\t washington & 1237      \\\\\n",
       "\t chicago    &  936      \\\\\n",
       "\t new york   &  900      \\\\\n",
       "\\end{tabular}\n"
      ],
      "text/markdown": [
       "\n",
       "| city | AverageDuration |\n",
       "|---|---|\n",
       "| washington | 1237       |\n",
       "| chicago    |  936       |\n",
       "| new york   |  900       |\n",
       "\n"
      ],
      "text/plain": [
       "  city       AverageDuration\n",
       "1 washington 1237           \n",
       "2 chicago     936           \n",
       "3 new york    900           "
      ]
     },
     "metadata": {},
     "output_type": "display_data"
    }
   ],
   "source": [
    "##Summary Table\n",
    "cities %>%\n",
    "   group_by(city) %>%\n",
    "    summarise(AverageDuration = round(mean(Trip.Duration))) %>%\n",
    " arrange(desc(AverageDuration))"
   ]
  },
  {
   "cell_type": "code",
   "execution_count": 66,
   "metadata": {},
   "outputs": [],
   "source": [
    "##Summary\n",
    "##The average trip duration is 936 for Chicago, 900 for New York City and 1237 for Washington. \n",
    "##Plots above summerized average trip duration for each city in descending order, which indicates the hightest average duration"
   ]
  }
 ],
 "metadata": {
  "kernelspec": {
   "display_name": "R",
   "language": "R",
   "name": "ir"
  },
  "language_info": {
   "codemirror_mode": "r",
   "file_extension": ".r",
   "mimetype": "text/x-r-source",
   "name": "R",
   "pygments_lexer": "r",
   "version": "3.6.1"
  }
 },
 "nbformat": 4,
 "nbformat_minor": 4
}
